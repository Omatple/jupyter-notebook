{
 "cells": [
  {
   "cell_type": "markdown",
   "id": "opened-setup",
   "metadata": {},
   "source": [
    "# Data Exploration\n",
    "\n",
    "## Introduction\n",
    "\n",
    "Since 2008, guests and hosts have used Airbnb to expand on traveling possibilities and present more unique, personalized way of experiencing the world. This dataset describes the listing activity and metrics in NYC, NY for 2019. The original source for this data can be found on this http://insideairbnb.com/. In this article, we will explore this data to gain valuable insights into listings.\n",
    "\n",
    "Let us start by loading up the necessary packages."
   ]
  },
  {
   "cell_type": "code",
   "execution_count": 1,
   "id": "pointed-benchmark",
   "metadata": {
    "name": "setup",
    "vscode": {
     "languageId": "r"
    }
   },
   "outputs": [
    {
     "ename": "ERROR",
     "evalue": "Error in library(tidyverse): there is no package called ‘tidyverse’\n",
     "output_type": "error",
     "traceback": [
      "Error in library(tidyverse): there is no package called ‘tidyverse’\nTraceback:\n",
      "1. withCallingHandlers(expr, packageStartupMessage = function(c) tryInvokeRestart(\"muffleMessage\"))",
      "2. library(tidyverse)",
      "3. stop(packageNotFoundError(package, lib.loc, sys.call()))"
     ]
    }
   ],
   "source": [
    "suppressPackageStartupMessages(library(tidyverse))"
   ]
  },
  {
   "cell_type": "markdown",
   "id": "worth-interstate",
   "metadata": {},
   "source": [
    "## Read Data\n",
    "\n",
    "We can read the data from the CSV file into a dataframe."
   ]
  },
  {
   "cell_type": "code",
   "execution_count": null,
   "id": "stuffed-finding",
   "metadata": {
    "name": "listings",
    "vscode": {
     "languageId": "r"
    }
   },
   "outputs": [],
   "source": [
    "listings <- read_csv('data/AB_NYC_2019.csv', show_col_types = FALSE)\n",
    "nrow(listings)\n",
    "head(listings, n = 100)"
   ]
  },
  {
   "cell_type": "markdown",
   "id": "neither-filter",
   "metadata": {},
   "source": [
    "## Explore Data\n",
    "\n",
    "There are many different questions to explore with this data. Let us start by looking at the top neighborhoods with listings."
   ]
  },
  {
   "cell_type": "code",
   "execution_count": null,
   "id": "separated-coating",
   "metadata": {
    "lines_to_next_cell": 0,
    "name": "by-neighbourhood",
    "vscode": {
     "languageId": "r"
    }
   },
   "outputs": [],
   "source": [
    "by_neighbourhood <- listings %>%\n",
    "  count(neighbourhood, name = 'nb_listings', sort = TRUE)\n",
    "\n",
    "by_neighbourhood"
   ]
  },
  {
   "cell_type": "markdown",
   "id": "athletic-control",
   "metadata": {},
   "source": [
    "Let us visualize the data using a horizontal bar plot."
   ]
  },
  {
   "cell_type": "code",
   "execution_count": null,
   "id": "perfect-narrative",
   "metadata": {
    "name": "plot-by-neighbourhood",
    "vscode": {
     "languageId": "r"
    }
   },
   "outputs": [],
   "source": [
    "plot_by_neighbourhood <- by_neighbourhood %>%\n",
    "  head(10) %>%\n",
    "  mutate(neighbourhood = forcats::fct_reorder(neighbourhood, nb_listings)) %>%\n",
    "  ggplot(aes(x = nb_listings, y = neighbourhood)) +\n",
    "  geom_col() +\n",
    "  labs(\n",
    "    title = 'Top 10 NYC Neighbourhoods with Airbnb listings',\n",
    "    subtitle = '',\n",
    "    x = '',\n",
    "    y = ''\n",
    "  ) +\n",
    "  theme(\n",
    "    plot.title.position = 'plot'\n",
    "  )\n",
    "\n",
    "plot_by_neighbourhood"
   ]
  },
  {
   "cell_type": "markdown",
   "id": "demonstrated-avatar",
   "metadata": {},
   "source": [
    "How about the distribution of prices across neighbourhoods? Rather than looking at neighbourhoods, we will focus our attention on neighbourhood groups."
   ]
  },
  {
   "cell_type": "code",
   "execution_count": null,
   "id": "homeless-mercy",
   "metadata": {
    "name": "plot-listings-price-violin",
    "vscode": {
     "languageId": "r"
    }
   },
   "outputs": [],
   "source": [
    "plot_listings_price_violin <- listings %>%\n",
    "  filter(price <= 500) %>%\n",
    "  ggplot(aes(x = neighbourhood_group, y = price)) +\n",
    "  geom_violin(aes(fill = neighbourhood_group)) +\n",
    "  labs(\n",
    "    title = 'Distribution of prices by neighbourhood group',\n",
    "    subtitle = '',\n",
    "    caption = 'Source: NYC Airbnb Listings (2019)',\n",
    "    x = '',\n",
    "    y = '$USD',\n",
    "    fill = ''\n",
    "  ) +\n",
    "  theme(\n",
    "    plot.title.position = 'plot',\n",
    "    legend.position = 'bottom'\n",
    "  )\n",
    "\n",
    "plot_listings_price_violin"
   ]
  },
  {
   "cell_type": "code",
   "execution_count": null,
   "id": "f480ab58-8970-4809-a198-9b94a167b24b",
   "metadata": {
    "vscode": {
     "languageId": "r"
    }
   },
   "outputs": [],
   "source": []
  }
 ],
 "metadata": {
  "editor": "DataCamp Workspace",
  "kernelspec": {
   "display_name": "R",
   "language": "R",
   "name": "ir"
  },
  "language_info": {
   "codemirror_mode": "r",
   "file_extension": ".r",
   "mimetype": "text/x-r-source",
   "name": "R",
   "pygments_lexer": "r",
   "version": "4.3.1"
  }
 },
 "nbformat": 4,
 "nbformat_minor": 5
}
